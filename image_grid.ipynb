{
 "cells": [
  {
   "cell_type": "code",
   "execution_count": null,
   "metadata": {},
   "outputs": [],
   "source": [
    "! pip install pillow"
   ]
  },
  {
   "cell_type": "code",
   "execution_count": null,
   "metadata": {},
   "outputs": [
    {
     "ename": "",
     "evalue": "",
     "output_type": "error",
     "traceback": [
      "\u001b[1;31mThe kernel failed to start as a dll could not be loaded.\n",
      "\u001b[1;31mClick <a href='https://aka.ms/kernelFailuresDllLoad'>here</a> for more info."
     ]
    }
   ],
   "source": [
    "import sys\n",
    "from os import listdir, mkdir\n",
    "from os.path import isfile, isdir, join\n",
    "import re\n",
    "import math\n",
    "import tkinter as tk\n",
    "from tkinter import filedialog\n",
    "import argparse\n",
    "from PIL import Image"
   ]
  },
  {
   "cell_type": "code",
   "execution_count": null,
   "metadata": {},
   "outputs": [],
   "source": [
    "def calculate_grid(imgs: list) -> list[int]:\n",
    "    total = len(imgs)\n",
    "    m = math.floor(math.sqrt(total)) # rows\n",
    "    n = total // m + (1 if total % m else 0) # cols\n",
    "\n",
    "    return [m, n]\n",
    "\n",
    "def calculate_canvas(tile, grid_dims):\n",
    "    cols, rows, padding = grid_dims\n",
    "    canvas_width = tile.width * cols + (padding * cols) - padding\n",
    "    canvas_height = tile.height * rows + (padding * rows) - padding\n",
    "    return Image.new('RGB', (canvas_width, canvas_height), (255, 255, 255))\n",
    "\n",
    "def combine_images(padding, images, basedir, grid_dims=None, rotation=180, standardized=True):\n",
    "    if not grid_dims: # calculate dims if not provided\n",
    "        rows, cols = calculate_grid(images)\n",
    "    else:\n",
    "        rows, cols = grid_dims\n",
    "    if not standardized: # calculate max dims\n",
    "        width_max = max([Image.open(basedir + image).width for image in images])\n",
    "        height_max = max([Image.open(basedir + image).height for image in images])\n",
    "    else:\n",
    "        tile0 = Image.open(basedir + images[0])\n",
    "        width_max = tile0.width\n",
    "        height_max = tile0.height\n",
    "    canvas = calculate_canvas(tile0, (cols, rows, padding))\n",
    "\n",
    "    x = 0\n",
    "    y = 0\n",
    "    for i, image in enumerate(images):\n",
    "        img = Image.open(basedir + image)\n",
    "        img = img.rotate(rotation) # rotate image\n",
    "        x_offset = 0\n",
    "        y_offset = 0\n",
    "        if not standardized:\n",
    "            x_offset = int((width_max-img.width)/2)\n",
    "            y_offset = int((height_max-img.height)/2)\n",
    "        canvas.paste(img, (x+x_offset, y+y_offset))\n",
    "        x += width_max + padding\n",
    "        if (i+1) % cols == 0:\n",
    "            y += height_max + padding\n",
    "            x = 0\n",
    "    canvas.save(basedir + 'out/image_grid.png')\n",
    "\n",
    "def get_imgs(path):\n",
    "    if isdir(path):\n",
    "        imgdir = path\n",
    "    else: \n",
    "        raise RuntimeError(f'{path} is not a valid directory!')\n",
    "    \n",
    "    sort_key = lambda f: int(re.search(\"(?:_|-)([0-9]+).tif\", f).group(1)) # key for sorting images into order - modify as necessary\n",
    "    try:\n",
    "        imgs = sorted([ f for f in listdir(imgdir) if isfile(join(imgdir, f)) ], key=sort_key)\n",
    "        if not isdir(imgdir + \"out/\"):\n",
    "            mkdir(imgdir + \"out/\")\n",
    "    except AttributeError as e:\n",
    "        if \"no attribute \\'group\\'\" in str(e):\n",
    "            raise ValueError(\n",
    "                (\"Please ensure the target directory contains only tifs and that \"\n",
    "                 \"filenames end in a number following an underscore or hyphen (i.e. KA331_1.tif)\"))\n",
    "        else: raise\n",
    "    return imgs"
   ]
  },
  {
   "cell_type": "code",
   "execution_count": null,
   "metadata": {},
   "outputs": [],
   "source": [
    "PADDING = 50 # padding between images in pixels\n",
    "IMGDIR = \"./imgs\" # folder containing the images\n",
    "ROTATION = 180 # rotate all images before placing\n",
    "STANDARDIZED = True # True if all images are same size, False otherwise"
   ]
  },
  {
   "cell_type": "code",
   "execution_count": null,
   "metadata": {},
   "outputs": [],
   "source": [
    "IMGS = get_imgs(IMGDIR) # get list of images from IMGDIR"
   ]
  },
  {
   "cell_type": "code",
   "execution_count": null,
   "metadata": {},
   "outputs": [],
   "source": [
    "ROWS = 0\n",
    "COLUMNS = 0\n",
    "DIMS = (ROWS, COLUMNS) # grid dimensions"
   ]
  },
  {
   "cell_type": "code",
   "execution_count": null,
   "metadata": {},
   "outputs": [],
   "source": [
    "combine_images(PADDING, IMGS, IMGDIR, DIMS, ROTATION, STANDARDIZED)"
   ]
  }
 ],
 "metadata": {
  "kernelspec": {
   "display_name": "cs1951_env",
   "language": "python",
   "name": "python3"
  },
  "language_info": {
   "name": "python",
   "version": "3.9.12"
  }
 },
 "nbformat": 4,
 "nbformat_minor": 2
}
