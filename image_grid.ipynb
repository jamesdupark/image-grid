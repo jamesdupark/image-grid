{
  "cells": [
    {
      "cell_type": "markdown",
      "metadata": {
        "id": "view-in-github",
        "colab_type": "text"
      },
      "source": [
        "<a href=\"https://colab.research.google.com/github/jamesdupark/image-grid/blob/main/image_grid.ipynb\" target=\"_parent\"><img src=\"https://colab.research.google.com/assets/colab-badge.svg\" alt=\"Open In Colab\"/></a>"
      ]
    },
    {
      "cell_type": "markdown",
      "source": [
        "# Instructions:\n",
        "Press the file icon ![image.png](data:image/png;base64,iVBORw0KGgoAAAANSUhEUgAAACAAAAAoCAYAAACfKfiZAAAAAXNSR0IArs4c6QAAAARnQU1BAACxjwv8YQUAAAAJcEhZcwAADsMAAA7DAcdvqGQAAAFUSURBVFhH7ZaxboJAGMf/mBIYDYTEzbAhD4A8inFicHH1GUhYiI/AYqKrm2HwBZyYYDKMJsDooIttj3yJTWmtJaZ2+H7L3f0vufvdHRxIruu+4ol0qHwaLMACLMACjZvQtm1Mp1NYloVO53u/siwxn8+x2+0oaUdjhvF4jMFgcHNygWEYmM1mcByHknY0diCKIvT7fZzPZxwOB1wuF+q50u12oWlaXT8ejyiKoq7fQoy33+8RxzHSNKX0hkBVVQiCAEmSUM8VcUxi9aZpUnI/n4+u1UMoViAGyfOckvvRdR3D4ZBawAuVv0ZITCYTav2M53kYjUaQZRmKolDK9wALsAALsMA/EGj1OW6Dqqro9Xr1f8Zms0EYhnXeEPB9H+8ZJEmi5LGIhS0WC6xWq7rdOILlcoksyx628o+cTidst1us12tKvtiBv4bfAhZgARZ4sgDwBpQAeeRaeyG0AAAAAElFTkSuQmCC) on the left-hand toolbar to open the session file viewer.\n",
        "\n",
        "Press the upload button ![image.png](data:image/png;base64,iVBORw0KGgoAAAANSUhEUgAAABsAAAAjCAYAAABl/XGVAAAAAXNSR0IArs4c6QAAAARnQU1BAACxjwv8YQUAAAAJcEhZcwAADsMAAA7DAcdvqGQAAAHOSURBVEhL7ZcxjwFBFMffnYtEfAGd0hcQEY1KQaL2CSgkOq1KKRqJKHQKH4BGopcQBaVSh55IRFz+z1t3u7d2dhiq+yXy9r1s5rdj3mR2P5LJ5IXexKfEt/AvM8KfBonH45TJZCgajVIgEJCqO6fTiQaDAY1GI6l4Y5Pl83kqFosUDoeloma/31O326XhcCiV+9j+xkQioSUCuB8PiAdV8SWRCYVCHA+HA7VaLRqPx5y7Ua1WKZvN8rUlBF4zNNYgfmZotBtVQuOt7yV8yT67J3yJDECYTqclu2LrRh3QdcvlUrIfIpEIFQqFW2f/5uGZrVYr3hrO32azocvF/dR6SBaLxeRKD21ZpVKhRqPBURctGQS5XI4XH1FX6FtmiYLBIOeIukJfMqfIQleolJVKpZsI59fxeOQ6InJLiPtUKGXT6ZTbGQOjtbfbLdcRkaO+2+1osVhw3QulDBu30+lQr9ejZrMp1SvIUW+32zSbzaR6H19rhoH6/b5kdlD3IwK+ZKbQlqExcJJbjaKDtqxcLvPRgaiL7e2qXq9TKpWS7HkmkwnVajXJHDPDQuPVzAQYx9k4T72kunE+n2m9XvMenM/nUr3y/8lkhDfKiL4BKdXLCnnJiC8AAAAASUVORK5CYII=) in order to open the file viewer and choose the images you want to combine.\n",
        "\n",
        "Images **must** have names ending in either a dash `-` or an underscore `_` followed by a number and `.tif`, i.e. `KA365_1.tif`.\n",
        "\n",
        "Press the play button in the brackets `[ ]` in order to run a cell. Start by running cells 1 and 2."
      ],
      "metadata": {
        "id": "a6ZsMrebPoD8"
      }
    },
    {
      "cell_type": "code",
      "execution_count": 3,
      "metadata": {
        "id": "UuqU3W2shrzU"
      },
      "outputs": [],
      "source": [
        "#################### 1 ####################\n",
        "import sys\n",
        "from os import listdir, mkdir\n",
        "from os.path import isfile, isdir, join\n",
        "import re\n",
        "import math\n",
        "import tkinter as tk\n",
        "from tkinter import filedialog\n",
        "import argparse\n",
        "from PIL import Image"
      ]
    },
    {
      "cell_type": "code",
      "execution_count": 4,
      "metadata": {
        "id": "A5rJYYKmhrzV"
      },
      "outputs": [],
      "source": [
        "#################### 2 ####################\n",
        "def calculate_grid(imgs: list) -> list[int]:\n",
        "    total = len(imgs)\n",
        "    m = math.floor(math.sqrt(total)) # rows\n",
        "    n = total // m + (1 if total % m else 0) # cols\n",
        "\n",
        "    return [m, n]\n",
        "\n",
        "def calculate_canvas(tile, grid_dims):\n",
        "    cols, rows, padding = grid_dims\n",
        "    canvas_width = tile.width * cols + (padding * cols) - padding\n",
        "    canvas_height = tile.height * rows + (padding * rows) - padding\n",
        "    return Image.new('RGB', (canvas_width, canvas_height), (255, 255, 255))\n",
        "\n",
        "def combine_images(padding, images, basedir, grid_dims=None, rotation=180, standardized=True):\n",
        "    if not grid_dims: # calculate dims if not provided\n",
        "        rows, cols = calculate_grid(images)\n",
        "    else:\n",
        "        rows, cols = grid_dims\n",
        "    if not standardized: # calculate max dims\n",
        "        width_max = max([Image.open(basedir + image).width for image in images])\n",
        "        height_max = max([Image.open(basedir + image).height for image in images])\n",
        "    else:\n",
        "        tile0 = Image.open(basedir + images[0])\n",
        "        width_max = tile0.width\n",
        "        height_max = tile0.height\n",
        "    canvas = calculate_canvas(tile0, (cols, rows, padding))\n",
        "\n",
        "    x = 0\n",
        "    y = 0\n",
        "    for i, image in enumerate(images):\n",
        "        img = Image.open(basedir + image)\n",
        "        img = img.rotate(rotation) # rotate image\n",
        "        x_offset = 0\n",
        "        y_offset = 0\n",
        "        if not standardized:\n",
        "            x_offset = int((width_max-img.width)/2)\n",
        "            y_offset = int((height_max-img.height)/2)\n",
        "        canvas.paste(img, (x+x_offset, y+y_offset))\n",
        "        x += width_max + padding\n",
        "        if (i+1) % cols == 0:\n",
        "            y += height_max + padding\n",
        "            x = 0\n",
        "    canvas.save(basedir + 'out/image_grid.png')\n",
        "\n",
        "def get_imgs(path):\n",
        "    if isdir(path):\n",
        "        imgdir = path\n",
        "    else:\n",
        "        raise RuntimeError(f'{path} is not a valid directory!')\n",
        "\n",
        "    sort_key = lambda f: int(re.search(\"(?:_|-)([0-9]+).tif\", f).group(1)) # key for sorting images into order - modify as necessary\n",
        "    try:\n",
        "        imgs = sorted([ f for f in listdir(imgdir) if isfile(join(imgdir, f)) ], key=sort_key)\n",
        "        if not isdir(imgdir + \"out\"):\n",
        "          mkdir(imgdir + \"out\")\n",
        "    except AttributeError as e:\n",
        "        if \"no attribute \\'group\\'\" in str(e):\n",
        "            raise ValueError(\n",
        "                (\"Please ensure the target directory contains only tifs and that \"\n",
        "                 \"filenames end in a number following an underscore or hyphen (i.e. KA331_1.tif)\"))\n",
        "        else: raise\n",
        "    return imgs"
      ]
    },
    {
      "cell_type": "markdown",
      "source": [
        "# Setup\n",
        "The following cells contain several parameters that we can adjust for our image grid:\n",
        "* `PADDING` - the padding between images in the grid, in pixels\n",
        "* `IMGDIR` - the directory (within the server's filesystem) that the images to be compiled are located in\n",
        "  * Can switch to a folder in your Google Drive containing the images by running cells 4-5. **DO NOT** run cells 4-5 if you are not using Google Drive.\n",
        "* `ROTATION` - rotation, in degrees to be applied to each image before placing in the grid\n",
        "* `STANDARDIZED` - value representing whether or not the images are all the same size. Almost always will be `True`.\n",
        "* `DIMS` - grid dimensions of the image grid to be created. If not set, will create a rectangular grid automatically. *Usually no need to set*."
      ],
      "metadata": {
        "id": "FdRhsH5cSqyr"
      }
    },
    {
      "cell_type": "code",
      "execution_count": 5,
      "metadata": {
        "id": "zy9gTGqqhrzV"
      },
      "outputs": [],
      "source": [
        "#################### 3 ####################\n",
        "PADDING = 50 # padding between images in pixels\n",
        "IMGDIR = \"./\" # folder containing the images\n",
        "ROTATION = 180 # rotate all images before placing\n",
        "STANDARDIZED = True # True if all images are same size, False otherwise"
      ]
    },
    {
      "cell_type": "code",
      "execution_count": 7,
      "metadata": {
        "id": "JJ44vnqbhrzW"
      },
      "outputs": [],
      "source": [
        "#################### 4 ####################\n",
        "ROWS = 0\n",
        "COLUMNS = 0\n",
        "DIMS = (ROWS, COLUMNS) # grid dimensions\n",
        "if DIMS == (0, 0):\n",
        "  DIMS = None"
      ]
    },
    {
      "cell_type": "markdown",
      "source": [
        "## Optional: Drive Setup\n",
        "If you wish to use Google Drive, run cell 4. In the file view on the left, a new folder called `drive` should appear. Navigate to the folder containing your images and right-click on it (or press the three dots next to it). Select \"copy path\" and paste the path in cell 5 after `drive_path =`. Delete the `#`s in front of both lines and run cell 5."
      ],
      "metadata": {
        "id": "-MULSmA0ZOQp"
      }
    },
    {
      "cell_type": "code",
      "source": [
        "#################### 4 ####################\n",
        "from google.colab import drive\n",
        "drive.mount('/content/drive')"
      ],
      "metadata": {
        "id": "UqL3a8uKjS6_",
        "outputId": "39326012-1262-41a1-a986-f78fe20dc295",
        "colab": {
          "base_uri": "https://localhost:8080/"
        }
      },
      "execution_count": 1,
      "outputs": [
        {
          "output_type": "stream",
          "name": "stdout",
          "text": [
            "Mounted at /content/drive\n"
          ]
        }
      ]
    },
    {
      "cell_type": "code",
      "source": [
        "#################### 5 ####################\n",
        "# drive_path =\n",
        "# IMGDIR = drive_path + '/'"
      ],
      "metadata": {
        "id": "hsMaILUAbMRS"
      },
      "execution_count": null,
      "outputs": []
    },
    {
      "cell_type": "markdown",
      "source": [
        "# Generating Image Grid\n",
        "Run cells 6 and 7. Note that if image name format is wrong or image directory is wrong, an error will arise. The resulting image can be found in the `out` directory located in the folder the original images were in."
      ],
      "metadata": {
        "id": "94UglXMFcx2r"
      }
    },
    {
      "cell_type": "code",
      "execution_count": 6,
      "metadata": {
        "id": "9UACTsO8hrzW"
      },
      "outputs": [],
      "source": [
        "#################### 6 ####################\n",
        "IMGS = get_imgs(IMGDIR) # get list of images from IMGDIR"
      ]
    },
    {
      "cell_type": "code",
      "execution_count": 9,
      "metadata": {
        "id": "f3ms6fiYhrzW"
      },
      "outputs": [],
      "source": [
        "#################### 7 ####################\n",
        "combine_images(PADDING, IMGS, IMGDIR, DIMS, ROTATION, STANDARDIZED)"
      ]
    }
  ],
  "metadata": {
    "kernelspec": {
      "display_name": "cs1951_env",
      "language": "python",
      "name": "python3"
    },
    "language_info": {
      "name": "python",
      "version": "3.9.12"
    },
    "colab": {
      "provenance": [],
      "include_colab_link": true
    }
  },
  "nbformat": 4,
  "nbformat_minor": 0
}